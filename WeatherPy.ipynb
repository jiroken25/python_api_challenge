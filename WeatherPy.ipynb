{
 "cells": [
  {
   "cell_type": "markdown",
   "metadata": {},
   "source": [
    "# WeatherPy\n",
    "----\n",
    "\n",
    "#### Note\n",
    "* Instructions have been included for each segment. You do not have to follow them exactly, but they are included to help you think through the steps."
   ]
  },
  {
   "cell_type": "markdown",
   "metadata": {},
   "source": [
    "Analysis:\n",
    "\n",
    "The correlations of Wind Speed, Humidity, Cloudiness against Latitude is very weak so it seems we cannot tell anything of these three weather conditions from latitude.\n",
    "\n",
    "We observed stronger correlation between Latitude and temperature in Southern Hemisphere than in Northern Hemispere. Area of continent in Northern Hemisphere is larger than that in Southern, so Northern climate is more diverse than Southern and we could say Northern data may have more variance.\n",
    "\n",
    "In additional analysis, we tried to see the correlation of Latitude and Temperature in Norther 20-80 degree. It has stronger correlation than the entire northern hemisphere, so it would be better to use the line regression model for 20-80 degree to predict.\n"
   ]
  },
  {
   "cell_type": "code",
   "execution_count": 1,
   "metadata": {},
   "outputs": [],
   "source": [
    "%matplotlib widget"
   ]
  },
  {
   "cell_type": "code",
   "execution_count": 2,
   "metadata": {
    "scrolled": true
   },
   "outputs": [],
   "source": [
    "# Dependencies and Setup\n",
    "import matplotlib.pyplot as plt\n",
    "import pandas as pd\n",
    "import numpy as np\n",
    "import requests\n",
    "import time\n",
    "import scipy.stats  as st\n",
    "\n",
    "import datetime\n",
    "\n",
    "# Import API key\n",
    "from config import weather_api_key\n",
    "\n",
    "# Incorporated citipy to determine city based on latitude and longitude\n",
    "from citipy import citipy\n",
    "\n",
    "\n",
    "# Output File (CSV)\n",
    "output_data_file = \"output_data/cities.csv\"\n",
    "\n",
    "# Range of latitudes and longitudes\n",
    "lat_range = (-90, 90)\n",
    "lng_range = (-180, 180)"
   ]
  },
  {
   "cell_type": "markdown",
   "metadata": {},
   "source": [
    "## Generate Cities List"
   ]
  },
  {
   "cell_type": "code",
   "execution_count": 3,
   "metadata": {},
   "outputs": [
    {
     "data": {
      "text/plain": [
       "613"
      ]
     },
     "execution_count": 3,
     "metadata": {},
     "output_type": "execute_result"
    }
   ],
   "source": [
    "# List for holding lat_lngs and cities\n",
    "lat_lngs = []\n",
    "cities = []\n",
    "\n",
    "# Create a set of random lat and lng combinations\n",
    "lats = np.random.uniform(lat_range[0], lat_range[1], size=1500)\n",
    "lngs = np.random.uniform(lng_range[0], lng_range[1], size=1500)\n",
    "lat_lngs = zip(lats, lngs)\n",
    "\n",
    "# Identify nearest city for each lat, lng combination\n",
    "for lat_lng in lat_lngs:\n",
    "    city = citipy.nearest_city(lat_lng[0], lat_lng[1]).city_name\n",
    "    \n",
    "    # If the city is unique, then add it to a our cities list\n",
    "    if city not in cities:\n",
    "        cities.append(city)\n",
    "\n",
    "# Print the city count to confirm sufficient count\n",
    "len(cities)\n"
   ]
  },
  {
   "cell_type": "markdown",
   "metadata": {},
   "source": [
    "### Perform API Calls\n",
    "* Perform a weather check on each city using a series of successive API calls.\n",
    "* Include a print log of each city as it'sbeing processed (with the city number and city name).\n"
   ]
  },
  {
   "cell_type": "code",
   "execution_count": 4,
   "metadata": {},
   "outputs": [
    {
     "name": "stdout",
     "output_type": "stream",
     "text": [
      "0. Port Alfred is found and stored in weather_dict\n",
      "1. Busselton is found and stored in weather_dict\n",
      "2. Puerto Ayora is found and stored in weather_dict\n",
      "3. New Norfolk is found and stored in weather_dict\n",
      "4. Jamestown is found and stored in weather_dict\n",
      "5. Kodiak is found and stored in weather_dict\n",
      "6. Port Elizabeth is found and stored in weather_dict\n",
      "7. Sinnamary is found and stored in weather_dict\n",
      "8. Linhares is found and stored in weather_dict\n",
      "9. Saint-Philippe is found and stored in weather_dict\n",
      "10. Punta Arenas is found and stored in weather_dict\n",
      "11. Barrow is found and stored in weather_dict\n",
      "12. Butaritari is found and stored in weather_dict\n",
      "13. Pringsewu is found and stored in weather_dict\n",
      "14. Vaini is found and stored in weather_dict\n",
      "15. Rungata is not found.\n",
      "16. Isangel is found and stored in weather_dict\n",
      "17. Kapaa is found and stored in weather_dict\n",
      "18. Ponta Do Sol is found and stored in weather_dict\n",
      "19. Keokuk is found and stored in weather_dict\n",
      "20. Amparafaravola is found and stored in weather_dict\n",
      "21. Chokurdakh is found and stored in weather_dict\n",
      "22. Samusu is not found.\n",
      "23. Hithadhoo is found and stored in weather_dict\n",
      "24. Nongan is found and stored in weather_dict\n",
      "25. Lagoa is found and stored in weather_dict\n",
      "26. Along is found and stored in weather_dict\n",
      "27. Illoqqortoormiut is not found.\n",
      "28. Manali is found and stored in weather_dict\n",
      "29. Mar Del Plata is found and stored in weather_dict\n",
      "30. Sao Filipe is found and stored in weather_dict\n",
      "31. Hermanus is found and stored in weather_dict\n",
      "32. Rumoi is found and stored in weather_dict\n",
      "33. Rikitea is found and stored in weather_dict\n",
      "34. Attawapiskat is not found.\n",
      "35. Guerrero Negro is found and stored in weather_dict\n",
      "36. Faanui is found and stored in weather_dict\n",
      "37. Tabiauea is not found.\n",
      "38. Kirakira is found and stored in weather_dict\n",
      "39. Bluff is found and stored in weather_dict\n",
      "40. Georgetown is found and stored in weather_dict\n",
      "41. Sabha is found and stored in weather_dict\n",
      "42. Nizhneyansk is not found.\n",
      "43. Santa Quiteria is found and stored in weather_dict\n",
      "44. East London is found and stored in weather_dict\n",
      "45. Eagle Pass is found and stored in weather_dict\n",
      "46. Muyezerskiy is found and stored in weather_dict\n",
      "47. Lolodorf is found and stored in weather_dict\n",
      "48. Rosetta is found and stored in weather_dict\n",
      "49. Mount Isa is found and stored in weather_dict\n",
      "50. Vigrestad is found and stored in weather_dict\n",
      "51. High Prairie is found and stored in weather_dict\n",
      "52. Port Hedland is found and stored in weather_dict\n",
      "53. Pisco is found and stored in weather_dict\n",
      "54. Palabuhanratu is not found.\n",
      "55. Erenhot is found and stored in weather_dict\n",
      "56. Bathsheba is found and stored in weather_dict\n",
      "57. Tasiilaq is found and stored in weather_dict\n",
      "58. Scarborough is found and stored in weather_dict\n",
      "59. Sassandra is found and stored in weather_dict\n",
      "60. Ornskoldsvik is found and stored in weather_dict\n",
      "61. Albany is found and stored in weather_dict\n",
      "62. Carnarvon is found and stored in weather_dict\n",
      "63. Rawlins is found and stored in weather_dict\n",
      "64. Borovoy is found and stored in weather_dict\n",
      "65. Ushuaia is found and stored in weather_dict\n",
      "66. Ishigaki is found and stored in weather_dict\n",
      "67. Hilo is found and stored in weather_dict\n",
      "68. Hobart is found and stored in weather_dict\n",
      "69. Kaitangata is found and stored in weather_dict\n",
      "70. Bethel is found and stored in weather_dict\n",
      "71. Caravelas is found and stored in weather_dict\n",
      "72. Cabo San Lucas is found and stored in weather_dict\n",
      "73. Ukiah is found and stored in weather_dict\n",
      "74. Halalo is not found.\n",
      "75. Mataura is found and stored in weather_dict\n",
      "76. Bredasdorp is found and stored in weather_dict\n",
      "77. Yanchukan is not found.\n",
      "78. Tottori is found and stored in weather_dict\n",
      "79. Mansion is not found.\n",
      "80. Longyearbyen is found and stored in weather_dict\n",
      "81. Taolanaro is not found.\n",
      "82. Nara is found and stored in weather_dict\n",
      "83. Belushya Guba is not found.\n",
      "84. Atuona is found and stored in weather_dict\n",
      "85. Bauchi is found and stored in weather_dict\n",
      "86. Nueva Loja is found and stored in weather_dict\n",
      "87. Bengkulu is found and stored in weather_dict\n",
      "88. Warrnambool is found and stored in weather_dict\n",
      "89. San Patricio is found and stored in weather_dict\n",
      "90. Jumla is found and stored in weather_dict\n",
      "91. Kamenka is found and stored in weather_dict\n",
      "92. Tuktoyaktuk is found and stored in weather_dict\n",
      "93. Bilma is found and stored in weather_dict\n",
      "94. Sambava is found and stored in weather_dict\n",
      "95. Tiksi is found and stored in weather_dict\n",
      "96. Sulecin is found and stored in weather_dict\n",
      "97. Grand River South East is not found.\n",
      "98. Tias is found and stored in weather_dict\n",
      "99. Penhold is found and stored in weather_dict\n",
      "100. Launceston is found and stored in weather_dict\n",
      "101. Tsihombe is not found.\n",
      "102. Traralgon is found and stored in weather_dict\n",
      "103. Vardo is found and stored in weather_dict\n",
      "104. Papar is found and stored in weather_dict\n",
      "105. Mrirt is not found.\n",
      "106. Namatanai is found and stored in weather_dict\n",
      "107. Arraial Do Cabo is found and stored in weather_dict\n",
      "108. Camacha is found and stored in weather_dict\n",
      "109. Tavda is found and stored in weather_dict\n",
      "110. Juneau is found and stored in weather_dict\n",
      "111. Tutoia is found and stored in weather_dict\n",
      "112. Torbay is found and stored in weather_dict\n",
      "113. Airai is found and stored in weather_dict\n",
      "114. Mpika is found and stored in weather_dict\n",
      "115. Avarua is found and stored in weather_dict\n",
      "116. Yumen is found and stored in weather_dict\n",
      "117. Chernyshevskiy is found and stored in weather_dict\n",
      "118. Sibu is found and stored in weather_dict\n",
      "119. Mayumba is found and stored in weather_dict\n",
      "120. Cayenne is found and stored in weather_dict\n",
      "121. Qaanaaq is found and stored in weather_dict\n",
      "122. Narsaq is found and stored in weather_dict\n",
      "123. Baghdad is found and stored in weather_dict\n",
      "124. Boyolangu is found and stored in weather_dict\n",
      "125. La Ronge is found and stored in weather_dict\n",
      "126. Zhigansk is found and stored in weather_dict\n",
      "127. Barentsburg is not found.\n",
      "128. Baturaja is found and stored in weather_dict\n",
      "129. Macia is found and stored in weather_dict\n",
      "130. Husavik is found and stored in weather_dict\n",
      "131. Galle is found and stored in weather_dict\n",
      "132. Lavrentiya is found and stored in weather_dict\n",
      "133. Thompson is found and stored in weather_dict\n",
      "134. Souillac is found and stored in weather_dict\n",
      "135. Atar is found and stored in weather_dict\n",
      "136. Kisangani is found and stored in weather_dict\n",
      "137. Mulchen is found and stored in weather_dict\n",
      "138. Punta Alta is found and stored in weather_dict\n",
      "139. Hasaki is found and stored in weather_dict\n",
      "140. Thinadhoo is found and stored in weather_dict\n",
      "141. Saskylakh is found and stored in weather_dict\n",
      "142. Yulara is found and stored in weather_dict\n",
      "143. Soma is found and stored in weather_dict\n",
      "144. Diffa is found and stored in weather_dict\n",
      "145. Okhotsk is found and stored in weather_dict\n",
      "146. Anadyr is found and stored in weather_dict\n",
      "147. Dubrovnik is found and stored in weather_dict\n",
      "148. Shihezi is found and stored in weather_dict\n",
      "149. Pevek is found and stored in weather_dict\n",
      "150. Metro is found and stored in weather_dict\n",
      "151. Te Anau is found and stored in weather_dict\n",
      "152. Saleaula is not found.\n",
      "153. Severo-Kurilsk is found and stored in weather_dict\n",
      "154. Bambous Virieux is found and stored in weather_dict\n",
      "155. Oranjemund is found and stored in weather_dict\n",
      "156. Salinopolis is found and stored in weather_dict\n",
      "157. Klokkarvik is not found.\n",
      "158. Srednekolymsk is found and stored in weather_dict\n",
      "159. Jacareacanga is found and stored in weather_dict\n",
      "160. Cape Town is found and stored in weather_dict\n",
      "161. Mirganj is found and stored in weather_dict\n",
      "162. Bubaque is found and stored in weather_dict\n",
      "163. Hirara is found and stored in weather_dict\n",
      "164. Artyk is not found.\n",
      "165. Cidreira is found and stored in weather_dict\n",
      "166. Lasa is found and stored in weather_dict\n",
      "167. Denpasar is found and stored in weather_dict\n",
      "168. Kamina is found and stored in weather_dict\n",
      "169. Pacific Grove is found and stored in weather_dict\n",
      "170. Provideniya is found and stored in weather_dict\n",
      "171. Klaksvik is found and stored in weather_dict\n",
      "172. Teya is found and stored in weather_dict\n",
      "173. Fortuna is found and stored in weather_dict\n",
      "174. Puli is found and stored in weather_dict\n",
      "175. Naugarzan is not found.\n",
      "176. Yellowknife is found and stored in weather_dict\n",
      "177. Liverpool is found and stored in weather_dict\n",
      "178. Panguna is found and stored in weather_dict\n",
      "179. Boende is found and stored in weather_dict\n",
      "180. Djambala is found and stored in weather_dict\n",
      "181. Sola is found and stored in weather_dict\n",
      "182. Nikolskoye is found and stored in weather_dict\n",
      "183. Wonthaggi is found and stored in weather_dict\n",
      "184. Dikson is found and stored in weather_dict\n",
      "185. Auki is found and stored in weather_dict\n",
      "186. Uyuni is found and stored in weather_dict\n",
      "187. Bombay is found and stored in weather_dict\n",
      "188. Chagda is not found.\n",
      "189. Fort Nelson is found and stored in weather_dict\n",
      "190. Sao Sebastiao is found and stored in weather_dict\n",
      "191. Sibirtsevo is not found.\n",
      "192. Vega Baja is found and stored in weather_dict\n",
      "193. Cotonou is found and stored in weather_dict\n",
      "194. Acarau is found and stored in weather_dict\n",
      "195. Migori is found and stored in weather_dict\n",
      "196. Caraballeda is found and stored in weather_dict\n",
      "197. Bonavista is found and stored in weather_dict\n",
      "198. Morehead is found and stored in weather_dict\n",
      "199. Zverinogolovskoye is found and stored in weather_dict\n",
      "200. Sorvag is not found.\n",
      "201. Ribeira Grande is found and stored in weather_dict\n",
      "202. Dhidhdhoo is found and stored in weather_dict\n",
      "203. Vaitupu is not found.\n",
      "204. Mount Gambier is found and stored in weather_dict\n",
      "205. Merauke is found and stored in weather_dict\n",
      "206. Castro is found and stored in weather_dict\n",
      "207. Lompoc is found and stored in weather_dict\n",
      "208. Tommot is found and stored in weather_dict\n",
      "209. Tuatapere is found and stored in weather_dict\n",
      "210. Mehamn is found and stored in weather_dict\n",
      "211. Beboto is found and stored in weather_dict\n",
      "212. Preobrazheniye is found and stored in weather_dict\n",
      "213. Isla Mujeres is found and stored in weather_dict\n",
      "214. Eureka is found and stored in weather_dict\n",
      "215. Victoria is found and stored in weather_dict\n",
      "216. Bowen is found and stored in weather_dict\n",
      "217. Phalombe is found and stored in weather_dict\n",
      "218. Kempele is found and stored in weather_dict\n",
      "219. Sao Joao Da Barra is found and stored in weather_dict\n",
      "220. Ziniare is found and stored in weather_dict\n",
      "221. Upernavik is found and stored in weather_dict\n",
      "222. Zhangye is found and stored in weather_dict\n",
      "223. Ouesso is found and stored in weather_dict\n",
      "224. Paamiut is found and stored in weather_dict\n",
      "225. Timizart is found and stored in weather_dict\n",
      "226. Linxia is found and stored in weather_dict\n",
      "227. Slupca is found and stored in weather_dict\n",
      "228. Mahebourg is found and stored in weather_dict\n",
      "229. Roebourne is found and stored in weather_dict\n",
      "230. Praya is found and stored in weather_dict\n",
      "231. Georgiyevka is found and stored in weather_dict\n",
      "232. Opunake is found and stored in weather_dict\n",
      "233. Cabacungan is found and stored in weather_dict\n",
      "234. Shenjiamen is found and stored in weather_dict\n",
      "235. Fairbanks is found and stored in weather_dict\n",
      "236. Taburi is not found.\n",
      "237. Salamiyah is found and stored in weather_dict\n",
      "238. Midland is found and stored in weather_dict\n",
      "239. Sentyabrskiy is not found.\n",
      "240. Hay River is found and stored in weather_dict\n",
      "241. Los Llanos De Aridane is found and stored in weather_dict\n",
      "242. Komsomolskiy is found and stored in weather_dict\n",
      "243. Lindi is found and stored in weather_dict\n",
      "244. Broome is found and stored in weather_dict\n",
      "245. Broken Hill is found and stored in weather_dict\n",
      "246. Davila is found and stored in weather_dict\n",
      "247. Tecpan is found and stored in weather_dict\n",
      "248. Abu Dhabi is found and stored in weather_dict\n",
      "249. Tairua is found and stored in weather_dict\n",
      "250. Fort Walton Beach is found and stored in weather_dict\n",
      "251. Havelock is found and stored in weather_dict\n",
      "252. Yaan is found and stored in weather_dict\n",
      "253. Fort Saint John is not found.\n",
      "254. Iqaluit is found and stored in weather_dict\n",
      "255. Saint George is found and stored in weather_dict\n",
      "256. Ostrovnoy is found and stored in weather_dict\n",
      "257. Mareeba is found and stored in weather_dict\n",
      "258. Nanortalik is found and stored in weather_dict\n",
      "259. Volot is found and stored in weather_dict\n",
      "260. Mys Shmidta is not found.\n",
      "261. Hofn is found and stored in weather_dict\n",
      "262. Port Hardy is found and stored in weather_dict\n",
      "263. Nata is found and stored in weather_dict\n",
      "264. Pangnirtung is found and stored in weather_dict\n",
      "265. Carolina is found and stored in weather_dict\n",
      "266. Uruzgan is found and stored in weather_dict\n",
      "267. Hamilton is found and stored in weather_dict\n",
      "268. Marawi is found and stored in weather_dict\n",
      "269. San Luis is found and stored in weather_dict\n",
      "270. Ahipara is found and stored in weather_dict\n",
      "271. Ouro Preto Do Oeste is found and stored in weather_dict\n",
      "272. Pavilosta is found and stored in weather_dict\n",
      "273. Sao Teotonio is found and stored in weather_dict\n",
      "274. Havre-Saint-Pierre is found and stored in weather_dict\n",
      "275. Blairmore is found and stored in weather_dict\n",
      "276. Shitanjing is found and stored in weather_dict\n",
      "277. Imbituba is found and stored in weather_dict\n",
      "278. Upata is found and stored in weather_dict\n",
      "279. Piryion is not found.\n",
      "280. Shache is found and stored in weather_dict\n",
      "281. Vazante is found and stored in weather_dict\n",
      "282. Kyren is found and stored in weather_dict\n",
      "283. Pimentel is found and stored in weather_dict\n",
      "284. Matara is found and stored in weather_dict\n",
      "285. Tazovskiy is found and stored in weather_dict\n",
      "286. Baghmara is found and stored in weather_dict\n",
      "287. Tessalit is found and stored in weather_dict\n",
      "288. Westerly is found and stored in weather_dict\n",
      "289. Roald is found and stored in weather_dict\n",
      "290. Inirida is found and stored in weather_dict\n",
      "291. Westport is found and stored in weather_dict\n",
      "292. Sagar is found and stored in weather_dict\n",
      "293. Zabol is found and stored in weather_dict\n",
      "294. Marsaxlokk is found and stored in weather_dict\n",
      "295. Nabire is found and stored in weather_dict\n",
      "296. Tura is found and stored in weather_dict\n",
      "297. Rio Gallegos is found and stored in weather_dict\n",
      "298. Sapa is found and stored in weather_dict\n",
      "299. Alanya is found and stored in weather_dict\n",
      "300. Bloomington is found and stored in weather_dict\n",
      "301. Carrollton is found and stored in weather_dict\n",
      "302. Touros is found and stored in weather_dict\n",
      "303. Consett is found and stored in weather_dict\n",
      "304. Umzimvubu is not found.\n",
      "305. Olafsvik is found and stored in weather_dict\n",
      "306. Cockburn Town is found and stored in weather_dict\n",
      "307. Plettenberg Bay is found and stored in weather_dict\n",
      "308. Tomatlan is found and stored in weather_dict\n",
      "309. Khatanga is found and stored in weather_dict\n",
      "310. Rocha is found and stored in weather_dict\n",
      "311. Chipata is found and stored in weather_dict\n",
      "312. San Cristobal is found and stored in weather_dict\n",
      "313. Karratha is found and stored in weather_dict\n",
      "314. Den Helder is found and stored in weather_dict\n",
      "315. Maneadero is found and stored in weather_dict\n",
      "316. Ayan is found and stored in weather_dict\n",
      "317. Iralaya is found and stored in weather_dict\n",
      "318. Sinkat is not found.\n",
      "319. Chuy is found and stored in weather_dict\n",
      "320. Taltal is found and stored in weather_dict\n",
      "321. Esperance is found and stored in weather_dict\n",
      "322. Geraldton is found and stored in weather_dict\n",
      "323. Flin Flon is found and stored in weather_dict\n",
      "324. Sukhoverkovo is not found.\n",
      "325. Sasayama is found and stored in weather_dict\n",
      "326. Bozhou is found and stored in weather_dict\n",
      "327. Pacifica is found and stored in weather_dict\n",
      "328. Sisimiut is found and stored in weather_dict\n",
      "329. Usogorsk is found and stored in weather_dict\n",
      "330. Lebu is found and stored in weather_dict\n",
      "331. Rawson is found and stored in weather_dict\n",
      "332. Awjilah is found and stored in weather_dict\n",
      "333. Price is found and stored in weather_dict\n",
      "334. Christchurch is found and stored in weather_dict\n",
      "335. Gamba is found and stored in weather_dict\n",
      "336. Port-Gentil is found and stored in weather_dict\n",
      "337. Lae is found and stored in weather_dict\n",
      "338. Kruisfontein is found and stored in weather_dict\n",
      "339. Rosarito is found and stored in weather_dict\n",
      "340. Ancud is found and stored in weather_dict\n",
      "341. Bandarbeyla is found and stored in weather_dict\n",
      "342. Lata is found and stored in weather_dict\n",
      "343. Voh is found and stored in weather_dict\n",
      "344. Payakumbuh is found and stored in weather_dict\n",
      "345. Ust-Nera is found and stored in weather_dict\n",
      "346. Goundi is found and stored in weather_dict\n",
      "347. Belyy Yar is found and stored in weather_dict\n",
      "348. Nouadhibou is found and stored in weather_dict\n",
      "349. Lucapa is found and stored in weather_dict\n",
      "350. Port Blair is found and stored in weather_dict\n",
      "351. Wukari is found and stored in weather_dict\n",
      "352. Warrensburg is found and stored in weather_dict\n",
      "353. Fare is found and stored in weather_dict\n",
      "354. Coihaique is found and stored in weather_dict\n",
      "355. Curuca is found and stored in weather_dict\n",
      "356. Bachaquero is found and stored in weather_dict\n",
      "357. Chingola is found and stored in weather_dict\n",
      "358. Grindavik is found and stored in weather_dict\n",
      "359. Kutum is found and stored in weather_dict\n",
      "360. Frankfort is found and stored in weather_dict\n",
      "361. Yabelo is found and stored in weather_dict\n",
      "362. Naryan-Mar is found and stored in weather_dict\n",
      "363. Abalak is found and stored in weather_dict\n",
      "364. Andenes is found and stored in weather_dict\n",
      "365. Moanda is found and stored in weather_dict\n",
      "366. Sur is found and stored in weather_dict\n",
      "367. Mecca is found and stored in weather_dict\n",
      "368. Keetmanshoop is found and stored in weather_dict\n",
      "369. Surt is found and stored in weather_dict\n",
      "370. Wattegama is found and stored in weather_dict\n",
      "371. Bongor is found and stored in weather_dict\n",
      "372. Luderitz is found and stored in weather_dict\n",
      "373. Balkanabat is found and stored in weather_dict\n",
      "374. Caldono is found and stored in weather_dict\n",
      "375. Yining is found and stored in weather_dict\n",
      "376. Aasiaat is found and stored in weather_dict\n",
      "377. Maridi is found and stored in weather_dict\n",
      "378. Nhulunbuy is found and stored in weather_dict\n",
      "379. Baykit is found and stored in weather_dict\n",
      "380. Omboue is found and stored in weather_dict\n",
      "381. Clyde River is found and stored in weather_dict\n",
      "382. Berlevag is found and stored in weather_dict\n",
      "383. Poceirao is found and stored in weather_dict\n",
      "384. Comodoro Rivadavia is found and stored in weather_dict\n",
      "385. Vao is found and stored in weather_dict\n",
      "386. Ketchikan is found and stored in weather_dict\n",
      "387. Abu Kamal is found and stored in weather_dict\n",
      "388. Kifri is found and stored in weather_dict\n",
      "389. Nicoya is found and stored in weather_dict\n",
      "390. Matagami is found and stored in weather_dict\n",
      "391. Kannangad is found and stored in weather_dict\n",
      "392. Areka is found and stored in weather_dict\n",
      "393. Dingle is found and stored in weather_dict\n",
      "394. Plover is found and stored in weather_dict\n",
      "395. Pochutla is found and stored in weather_dict\n",
      "396. Nago is found and stored in weather_dict\n",
      "397. Mahanoro is found and stored in weather_dict\n",
      "398. Marcona is not found.\n",
      "399. Chiredzi is found and stored in weather_dict\n",
      "400. Panaba is found and stored in weather_dict\n",
      "401. College is found and stored in weather_dict\n",
      "402. Constitucion is found and stored in weather_dict\n",
      "403. Algiers is found and stored in weather_dict\n",
      "404. Gorontalo is found and stored in weather_dict\n",
      "405. Amderma is not found.\n",
      "406. Mananjary is found and stored in weather_dict\n",
      "407. Hadejia is found and stored in weather_dict\n",
      "408. Yangjiang is found and stored in weather_dict\n",
      "409. Seoul is found and stored in weather_dict\n",
      "410. Tilichiki is found and stored in weather_dict\n",
      "411. Vestmannaeyjar is found and stored in weather_dict\n",
      "412. Coquimbo is found and stored in weather_dict\n",
      "413. Barranca is found and stored in weather_dict\n",
      "414. Kiama is found and stored in weather_dict\n",
      "415. Ramasukha is not found.\n",
      "416. Kagoro is found and stored in weather_dict\n",
      "417. Banjarmasin is found and stored in weather_dict\n",
      "418. Whitehorse is found and stored in weather_dict\n",
      "419. Praia Da Vitoria is found and stored in weather_dict\n",
      "420. Tigil is found and stored in weather_dict\n",
      "421. Yima is found and stored in weather_dict\n",
      "422. Chase is found and stored in weather_dict\n",
      "423. Deputatskiy is found and stored in weather_dict\n",
      "424. Pingliang is found and stored in weather_dict\n",
      "425. Muroto is found and stored in weather_dict\n",
      "426. Lethem is found and stored in weather_dict\n",
      "427. Cap Malheureux is found and stored in weather_dict\n",
      "428. Kapuskasing is found and stored in weather_dict\n",
      "429. Bollnas is found and stored in weather_dict\n",
      "430. Linapacan is not found.\n",
      "431. Chumikan is found and stored in weather_dict\n",
      "432. Duncan is found and stored in weather_dict\n",
      "433. Nchelenge is found and stored in weather_dict\n",
      "434. Woodward is found and stored in weather_dict\n",
      "435. Verkhnyaya Toyma is found and stored in weather_dict\n",
      "436. Sompeta is found and stored in weather_dict\n",
      "437. Kavieng is found and stored in weather_dict\n",
      "438. Talnakh is found and stored in weather_dict\n",
      "439. Vicuna is found and stored in weather_dict\n",
      "440. Quechultenango is found and stored in weather_dict\n",
      "441. Lensk is found and stored in weather_dict\n",
      "442. Karasjok is found and stored in weather_dict\n",
      "443. Delta Del Tigre is found and stored in weather_dict\n",
      "444. Hirado is found and stored in weather_dict\n",
      "445. Konya is found and stored in weather_dict\n",
      "446. Mosina is found and stored in weather_dict\n",
      "447. Saint-Pierre is found and stored in weather_dict\n",
      "448. Aguascalientes is found and stored in weather_dict\n",
      "449. Henties Bay is found and stored in weather_dict\n",
      "450. Tidore is not found.\n",
      "451. Hastings is found and stored in weather_dict\n",
      "452. Tual is found and stored in weather_dict\n",
      "453. Cherskiy is found and stored in weather_dict\n",
      "454. Isla Vista is found and stored in weather_dict\n",
      "455. Osypenko is found and stored in weather_dict\n",
      "456. Salinas is found and stored in weather_dict\n",
      "457. Portland is found and stored in weather_dict\n",
      "458. Jucuaran is found and stored in weather_dict\n",
      "459. Zaranj is found and stored in weather_dict\n",
      "460. Kinsale is found and stored in weather_dict\n",
      "461. Taoudenni is found and stored in weather_dict\n",
      "462. Itoman is found and stored in weather_dict\n",
      "463. Kuche is not found.\n",
      "464. Bontang is found and stored in weather_dict\n",
      "465. Bay Saint Louis is found and stored in weather_dict\n",
      "466. Catamarca is found and stored in weather_dict\n",
      "467. Egvekinot is found and stored in weather_dict\n",
      "468. Ondjiva is found and stored in weather_dict\n",
      "469. Maarianhamina is found and stored in weather_dict\n",
      "470. Maceio is found and stored in weather_dict\n",
      "471. Milagres is found and stored in weather_dict\n",
      "472. Salalah is found and stored in weather_dict\n",
      "473. Port Lincoln is found and stored in weather_dict\n",
      "474. Natal is found and stored in weather_dict\n",
      "475. Meyungs is not found.\n",
      "476. Utiroa is not found.\n",
      "477. Cedro is found and stored in weather_dict\n",
      "478. Todos Santos is found and stored in weather_dict\n",
      "479. Juegang is found and stored in weather_dict\n",
      "480. Lalmohan is found and stored in weather_dict\n",
      "481. Wuwei is found and stored in weather_dict\n",
      "482. Klyuchi is found and stored in weather_dict\n",
      "483. Vostok is found and stored in weather_dict\n",
      "484. Harper is found and stored in weather_dict\n",
      "485. Tezu is found and stored in weather_dict\n",
      "486. Windsor is found and stored in weather_dict\n",
      "487. Rosendal is found and stored in weather_dict\n",
      "488. Brae is found and stored in weather_dict\n",
      "489. Hoima is found and stored in weather_dict\n",
      "490. Naze is found and stored in weather_dict\n",
      "491. Emba is found and stored in weather_dict\n",
      "492. Santa Fe is found and stored in weather_dict\n",
      "493. Yebaishou is found and stored in weather_dict\n",
      "494. Hobyo is found and stored in weather_dict\n",
      "495. Nyimba is found and stored in weather_dict\n",
      "496. Varnavino is found and stored in weather_dict\n",
      "497. Hongjiang is found and stored in weather_dict\n",
      "498. Polyarnyy is found and stored in weather_dict\n",
      "499. Jiangyou is found and stored in weather_dict\n",
      "500. Gushikawa is found and stored in weather_dict\n",
      "501. Sedro-Woolley is found and stored in weather_dict\n",
      "502. Tamiahua is found and stored in weather_dict\n",
      "503. Suntar is found and stored in weather_dict\n",
      "504. West Plains is found and stored in weather_dict\n",
      "505. Kupang is found and stored in weather_dict\n",
      "506. Mingyue is found and stored in weather_dict\n",
      "507. Gazli is found and stored in weather_dict\n",
      "508. Lima is found and stored in weather_dict\n",
      "509. Kokopo is found and stored in weather_dict\n",
      "510. Barbar is not found.\n",
      "511. Kahului is found and stored in weather_dict\n",
      "512. Lorengau is found and stored in weather_dict\n",
      "513. Cururupu is found and stored in weather_dict\n",
      "514. Hurricane is found and stored in weather_dict\n",
      "515. Mallapuram is found and stored in weather_dict\n",
      "516. Spetsai is not found.\n",
      "517. Shahr-E Babak is found and stored in weather_dict\n",
      "518. Nakusp is found and stored in weather_dict\n",
      "519. Krasnoselkup is found and stored in weather_dict\n",
      "520. Rudnogorsk is found and stored in weather_dict\n",
      "521. San Carlos is found and stored in weather_dict\n",
      "522. Mwinilunga is found and stored in weather_dict\n",
      "523. Palora is found and stored in weather_dict\n",
      "524. Tyukalinsk is found and stored in weather_dict\n",
      "525. Yate is found and stored in weather_dict\n",
      "526. Santa Cruz Do Rio Pardo is found and stored in weather_dict\n",
      "527. Moron is found and stored in weather_dict\n",
      "528. Predivinsk is found and stored in weather_dict\n",
      "529. Haines Junction is found and stored in weather_dict\n",
      "530. Barcelos is found and stored in weather_dict\n",
      "531. Santiago is found and stored in weather_dict\n",
      "532. Morant Bay is found and stored in weather_dict\n",
      "533. Fengcheng is found and stored in weather_dict\n",
      "534. Ilula is found and stored in weather_dict\n",
      "535. Borujan is not found.\n",
      "536. Laguna is found and stored in weather_dict\n",
      "537. Kudahuvadhoo is found and stored in weather_dict\n",
      "538. Yeppoon is found and stored in weather_dict\n",
      "539. Aranos is found and stored in weather_dict\n",
      "540. San Jose is found and stored in weather_dict\n",
      "541. Bridgewater is found and stored in weather_dict\n",
      "542. Solnechnyy is found and stored in weather_dict\n",
      "543. Beitbridge is found and stored in weather_dict\n",
      "544. South Elgin is found and stored in weather_dict\n",
      "545. Gizo is found and stored in weather_dict\n",
      "546. Aliwal North is found and stored in weather_dict\n",
      "547. Marystown is found and stored in weather_dict\n",
      "548. Hervey Bay is found and stored in weather_dict\n",
      "549. Isabela is found and stored in weather_dict\n",
      "550. El Refugio is found and stored in weather_dict\n",
      "551. Gornopravdinsk is found and stored in weather_dict\n",
      "552. Puerto Colombia is found and stored in weather_dict\n",
      "553. Chitral is found and stored in weather_dict\n",
      "554. Nome is found and stored in weather_dict\n",
      "555. Chaihe is found and stored in weather_dict\n",
      "556. Chilac is not found.\n",
      "557. Sedalia is found and stored in weather_dict\n",
      "558. Karatsu is found and stored in weather_dict\n",
      "559. Banda Aceh is found and stored in weather_dict\n",
      "560. Petropavlovsk-Kamchatskiy is found and stored in weather_dict\n",
      "561. Walvis Bay is found and stored in weather_dict\n",
      "562. Vila Velha is found and stored in weather_dict\n",
      "563. Mora is found and stored in weather_dict\n",
      "564. Chateauroux is found and stored in weather_dict\n",
      "565. Shaoxing is found and stored in weather_dict\n",
      "566. Mendahara is not found.\n",
      "567. Aflu is not found.\n",
      "568. Saurimo is found and stored in weather_dict\n",
      "569. Ust-Kuyga is found and stored in weather_dict\n",
      "570. Levittown is found and stored in weather_dict\n",
      "571. Methoni is found and stored in weather_dict\n",
      "572. Kungurtug is found and stored in weather_dict\n",
      "573. Anchorage is found and stored in weather_dict\n",
      "574. Tapaua is not found.\n",
      "575. Puerto Del Rosario is found and stored in weather_dict\n",
      "576. Makakilo City is found and stored in weather_dict\n",
      "577. Hami is found and stored in weather_dict\n",
      "578. Kuah is found and stored in weather_dict\n",
      "579. Fasa is found and stored in weather_dict\n",
      "580. Biltine is found and stored in weather_dict\n",
      "581. Puerto Escondido is found and stored in weather_dict\n",
      "582. Ibra is found and stored in weather_dict\n",
      "583. Ponta Delgada is found and stored in weather_dict\n",
      "584. Thunder Bay is found and stored in weather_dict\n",
      "585. Ilulissat is found and stored in weather_dict\n",
      "586. Saint Anthony is found and stored in weather_dict\n",
      "587. Waingapu is found and stored in weather_dict\n",
      "588. Evensk is found and stored in weather_dict\n",
      "589. Beloha is found and stored in weather_dict\n",
      "590. La Rioja is found and stored in weather_dict\n",
      "591. Axim is found and stored in weather_dict\n",
      "592. Marsa Matruh is found and stored in weather_dict\n",
      "593. Talcahuano is found and stored in weather_dict\n",
      "594. Kieta is found and stored in weather_dict\n",
      "595. Quelimane is found and stored in weather_dict\n",
      "596. Nyurba is found and stored in weather_dict\n",
      "597. Ola is found and stored in weather_dict\n",
      "598. Kualakapuas is found and stored in weather_dict\n",
      "599. Aksu is found and stored in weather_dict\n",
      "600. Suksun is found and stored in weather_dict\n",
      "601. Qaqortoq is found and stored in weather_dict\n",
      "602. Xining is found and stored in weather_dict\n",
      "603. Arani is found and stored in weather_dict\n",
      "604. Lalomanu is not found.\n",
      "605. Ilo is found and stored in weather_dict\n",
      "606. Itarema is found and stored in weather_dict\n",
      "607. Sitka is found and stored in weather_dict\n",
      "608. Morgan City is found and stored in weather_dict\n",
      "609. Bilibino is found and stored in weather_dict\n",
      "610. Luanda is found and stored in weather_dict\n",
      "611. San Pedro is found and stored in weather_dict\n",
      "612. Kaka is found and stored in weather_dict\n"
     ]
    }
   ],
   "source": [
    "url = \"http://api.openweathermap.org/data/2.5/weather\"\n",
    "weather_dict = {\"City\":[],\"Latitude\":[],\"Longitude\":[],\"Temperature\":[],\"Humidity\":[],\"Wind Speed\":[],\"Cloudiness\":[],\"Date\":[],\"Country\":[]}\n",
    "\n",
    "for city in cities:\n",
    "    params = {\"q\":{city},\"units\":\"metric\",\"appid\":{weather_api_key}}\n",
    "    response = requests.get(url, params=params)\n",
    "    weather_data =response.json()\n",
    "    try:\n",
    "        weather_dict[\"Latitude\"].append(weather_data[\"coord\"][\"lat\"])\n",
    "        weather_dict[\"Longitude\"].append(weather_data[\"coord\"][\"lon\"])\n",
    "        weather_dict[\"Temperature\"].append(weather_data[\"main\"][\"temp_max\"])\n",
    "        weather_dict[\"Humidity\"].append(weather_data[\"main\"][\"humidity\"])\n",
    "        weather_dict[\"Wind Speed\"].append(weather_data[\"wind\"][\"speed\"])\n",
    "        weather_dict[\"Cloudiness\"].append(weather_data[\"clouds\"][\"all\"])\n",
    "        weather_dict[\"Country\"].append(weather_data[\"sys\"][\"country\"])\n",
    "        weather_dict[\"Date\"].append(datetime.datetime.fromtimestamp(weather_data[\"dt\"]).strftime('%Y-%m-%d'))\n",
    "        weather_dict[\"City\"].append(city.title())\n",
    "        print(f\"{cities.index(city)}. {city.title()} is found and stored in weather_dict\")\n",
    "    except:\n",
    "        print(f\"{cities.index(city)}. {city.title()} is not found.\")\n",
    "\n"
   ]
  },
  {
   "cell_type": "markdown",
   "metadata": {},
   "source": [
    "### Convert Raw Data to DataFrame\n",
    "\n",
    "\n",
    "\n",
    "* Export the city data into a .csv.\n",
    "\n",
    "\n",
    "\n",
    "* Display the DataFrame"
   ]
  },
  {
   "cell_type": "code",
   "execution_count": 6,
   "metadata": {},
   "outputs": [],
   "source": [
    "weather_df = pd.DataFrame(weather_dict)\n",
    "\n",
    "weather_df.to_csv(output_data_file)\n",
    "\n"
   ]
  },
  {
   "cell_type": "code",
   "execution_count": 7,
   "metadata": {},
   "outputs": [
    {
     "data": {
      "text/html": [
       "<div>\n",
       "<style scoped>\n",
       "    .dataframe tbody tr th:only-of-type {\n",
       "        vertical-align: middle;\n",
       "    }\n",
       "\n",
       "    .dataframe tbody tr th {\n",
       "        vertical-align: top;\n",
       "    }\n",
       "\n",
       "    .dataframe thead th {\n",
       "        text-align: right;\n",
       "    }\n",
       "</style>\n",
       "<table border=\"1\" class=\"dataframe\">\n",
       "  <thead>\n",
       "    <tr style=\"text-align: right;\">\n",
       "      <th></th>\n",
       "      <th>City</th>\n",
       "      <th>Latitude</th>\n",
       "      <th>Longitude</th>\n",
       "      <th>Temperature</th>\n",
       "      <th>Humidity</th>\n",
       "      <th>Wind Speed</th>\n",
       "      <th>Cloudiness</th>\n",
       "      <th>Date</th>\n",
       "      <th>Country</th>\n",
       "    </tr>\n",
       "  </thead>\n",
       "  <tbody>\n",
       "    <tr>\n",
       "      <th>0</th>\n",
       "      <td>Port Alfred</td>\n",
       "      <td>-33.59</td>\n",
       "      <td>26.89</td>\n",
       "      <td>18.23</td>\n",
       "      <td>28</td>\n",
       "      <td>4.87</td>\n",
       "      <td>0</td>\n",
       "      <td>2020-07-12</td>\n",
       "      <td>ZA</td>\n",
       "    </tr>\n",
       "    <tr>\n",
       "      <th>1</th>\n",
       "      <td>Busselton</td>\n",
       "      <td>-33.65</td>\n",
       "      <td>115.33</td>\n",
       "      <td>16.11</td>\n",
       "      <td>45</td>\n",
       "      <td>10.55</td>\n",
       "      <td>1</td>\n",
       "      <td>2020-07-12</td>\n",
       "      <td>AU</td>\n",
       "    </tr>\n",
       "    <tr>\n",
       "      <th>2</th>\n",
       "      <td>Puerto Ayora</td>\n",
       "      <td>-0.74</td>\n",
       "      <td>-90.35</td>\n",
       "      <td>18.33</td>\n",
       "      <td>97</td>\n",
       "      <td>1.51</td>\n",
       "      <td>61</td>\n",
       "      <td>2020-07-12</td>\n",
       "      <td>EC</td>\n",
       "    </tr>\n",
       "    <tr>\n",
       "      <th>3</th>\n",
       "      <td>New Norfolk</td>\n",
       "      <td>-42.78</td>\n",
       "      <td>147.06</td>\n",
       "      <td>5.56</td>\n",
       "      <td>89</td>\n",
       "      <td>0.10</td>\n",
       "      <td>80</td>\n",
       "      <td>2020-07-12</td>\n",
       "      <td>AU</td>\n",
       "    </tr>\n",
       "    <tr>\n",
       "      <th>4</th>\n",
       "      <td>Jamestown</td>\n",
       "      <td>42.10</td>\n",
       "      <td>-79.24</td>\n",
       "      <td>18.33</td>\n",
       "      <td>100</td>\n",
       "      <td>2.60</td>\n",
       "      <td>1</td>\n",
       "      <td>2020-07-12</td>\n",
       "      <td>US</td>\n",
       "    </tr>\n",
       "  </tbody>\n",
       "</table>\n",
       "</div>"
      ],
      "text/plain": [
       "           City  Latitude  Longitude  Temperature  Humidity  Wind Speed  \\\n",
       "0   Port Alfred    -33.59      26.89        18.23        28        4.87   \n",
       "1     Busselton    -33.65     115.33        16.11        45       10.55   \n",
       "2  Puerto Ayora     -0.74     -90.35        18.33        97        1.51   \n",
       "3   New Norfolk    -42.78     147.06         5.56        89        0.10   \n",
       "4     Jamestown     42.10     -79.24        18.33       100        2.60   \n",
       "\n",
       "   Cloudiness        Date Country  \n",
       "0           0  2020-07-12      ZA  \n",
       "1           1  2020-07-12      AU  \n",
       "2          61  2020-07-12      EC  \n",
       "3          80  2020-07-12      AU  \n",
       "4           1  2020-07-12      US  "
      ]
     },
     "execution_count": 7,
     "metadata": {},
     "output_type": "execute_result"
    }
   ],
   "source": [
    "weather_df.head()"
   ]
  },
  {
   "cell_type": "markdown",
   "metadata": {},
   "source": [
    "## Inspect the data and remove the cities where the humidity > 100%.\n",
    "----\n",
    "Skip this step if there are no cities that have humidity > 100%. "
   ]
  },
  {
   "cell_type": "code",
   "execution_count": 8,
   "metadata": {},
   "outputs": [
    {
     "data": {
      "text/plain": [
       "City           565\n",
       "Latitude       565\n",
       "Longitude      565\n",
       "Temperature    565\n",
       "Humidity       565\n",
       "Wind Speed     565\n",
       "Cloudiness     565\n",
       "Date           565\n",
       "Country        565\n",
       "dtype: int64"
      ]
     },
     "execution_count": 8,
     "metadata": {},
     "output_type": "execute_result"
    }
   ],
   "source": [
    "weather_df.count()"
   ]
  },
  {
   "cell_type": "code",
   "execution_count": 9,
   "metadata": {},
   "outputs": [
    {
     "data": {
      "text/html": [
       "<div>\n",
       "<style scoped>\n",
       "    .dataframe tbody tr th:only-of-type {\n",
       "        vertical-align: middle;\n",
       "    }\n",
       "\n",
       "    .dataframe tbody tr th {\n",
       "        vertical-align: top;\n",
       "    }\n",
       "\n",
       "    .dataframe thead th {\n",
       "        text-align: right;\n",
       "    }\n",
       "</style>\n",
       "<table border=\"1\" class=\"dataframe\">\n",
       "  <thead>\n",
       "    <tr style=\"text-align: right;\">\n",
       "      <th></th>\n",
       "      <th>City</th>\n",
       "      <th>Latitude</th>\n",
       "      <th>Longitude</th>\n",
       "      <th>Temperature</th>\n",
       "      <th>Humidity</th>\n",
       "      <th>Wind Speed</th>\n",
       "      <th>Cloudiness</th>\n",
       "      <th>Date</th>\n",
       "      <th>Country</th>\n",
       "    </tr>\n",
       "  </thead>\n",
       "  <tbody>\n",
       "  </tbody>\n",
       "</table>\n",
       "</div>"
      ],
      "text/plain": [
       "Empty DataFrame\n",
       "Columns: [City, Latitude, Longitude, Temperature, Humidity, Wind Speed, Cloudiness, Date, Country]\n",
       "Index: []"
      ]
     },
     "execution_count": 9,
     "metadata": {},
     "output_type": "execute_result"
    }
   ],
   "source": [
    "#  Get the indices of cities that have humidity over 100%.\n",
    "\n",
    "weather_df[weather_df[\"Humidity\"]>100]"
   ]
  },
  {
   "cell_type": "markdown",
   "metadata": {},
   "source": [
    "No need to clean the data"
   ]
  },
  {
   "cell_type": "markdown",
   "metadata": {},
   "source": [
    "## Plotting the Data\n",
    "* Use proper labeling of the plots using plot titles (including date of analysis) and axes labels.\n",
    "* Save the plotted figures as .pngs."
   ]
  },
  {
   "cell_type": "markdown",
   "metadata": {},
   "source": [
    "## Latitude vs. Temperature Plot"
   ]
  },
  {
   "cell_type": "code",
   "execution_count": 10,
   "metadata": {
    "scrolled": true
   },
   "outputs": [
    {
     "data": {
      "application/vnd.jupyter.widget-view+json": {
       "model_id": "9da96117d15a429088643b58a237d47b",
       "version_major": 2,
       "version_minor": 0
      },
      "text/plain": [
       "Canvas(toolbar=Toolbar(toolitems=[('Home', 'Reset original view', 'home', 'home'), ('Back', 'Back to previous …"
      ]
     },
     "metadata": {},
     "output_type": "display_data"
    },
    {
     "name": "stdout",
     "output_type": "stream",
     "text": [
      "Showing scatterplot of x:Latitude, y:temperature \n"
     ]
    }
   ],
   "source": [
    "fig, ax = plt.subplots(figsize=(10,10))\n",
    "\n",
    "ax.scatter(x=weather_df[\"Latitude\"],y=weather_df[\"Temperature\"],marker=\"o\",edgecolors=\"black\")\n",
    "ax.grid()\n",
    "ax.set_xlim(-60,80)\n",
    "ax.set_ylim(-10,40)\n",
    "ax.set_xlabel(\"Latitude\")\n",
    "ax.set_ylabel(\"Temperature(C)\")\n",
    "ax.set_title(\"Latitude vs Temperature(12/7/2020)\")\n",
    "plt.tight_layout()\n",
    "plt.savefig(\"output_data/fig1-LatvsTemp.png\")\n",
    "print(\"Showing scatterplot of x:Latitude, y:temperature \")"
   ]
  },
  {
   "cell_type": "code",
   "execution_count": 11,
   "metadata": {},
   "outputs": [
    {
     "data": {
      "application/vnd.jupyter.widget-view+json": {
       "model_id": "05e14731cf27489fbe82a682e07e1e57",
       "version_major": 2,
       "version_minor": 0
      },
      "text/plain": [
       "Canvas(toolbar=Toolbar(toolitems=[('Home', 'Reset original view', 'home', 'home'), ('Back', 'Back to previous …"
      ]
     },
     "metadata": {},
     "output_type": "display_data"
    },
    {
     "name": "stdout",
     "output_type": "stream",
     "text": [
      "Showing scatterplot of x:Latitude, y:Humidity \n"
     ]
    }
   ],
   "source": [
    "fig1, ax1 = plt.subplots(figsize=(10,10))\n",
    "\n",
    "ax1.scatter(x=weather_df[\"Latitude\"],y=weather_df[\"Humidity\"],marker=\"o\",edgecolors=\"black\")\n",
    "ax1.grid()\n",
    "ax1.set_xlim(-60,80)\n",
    "ax1.set_ylim(0,105)\n",
    "ax1.set_xlabel(\"Latitude\")\n",
    "ax1.set_ylabel(\"Humidity(%)\")\n",
    "ax1.set_title(\"Latitude vs Humidity(12/7/2020)\")\n",
    "plt.tight_layout()\n",
    "plt.savefig(\"output_data/fig2-LatvsHumidity.png\")\n",
    "print(\"Showing scatterplot of x:Latitude, y:Humidity \")"
   ]
  },
  {
   "cell_type": "markdown",
   "metadata": {},
   "source": [
    "## Latitude vs. Cloudiness Plot"
   ]
  },
  {
   "cell_type": "code",
   "execution_count": 12,
   "metadata": {},
   "outputs": [
    {
     "data": {
      "application/vnd.jupyter.widget-view+json": {
       "model_id": "19d5725114c9478dbc70835a235d3d2c",
       "version_major": 2,
       "version_minor": 0
      },
      "text/plain": [
       "Canvas(toolbar=Toolbar(toolitems=[('Home', 'Reset original view', 'home', 'home'), ('Back', 'Back to previous …"
      ]
     },
     "metadata": {},
     "output_type": "display_data"
    },
    {
     "name": "stdout",
     "output_type": "stream",
     "text": [
      "Showing scatterplot of x:Latitude, y:Cloudiness \n"
     ]
    }
   ],
   "source": [
    "fig2, ax2 = plt.subplots(figsize=(10,10))\n",
    "\n",
    "ax2.scatter(x=weather_df[\"Latitude\"],y=weather_df[\"Cloudiness\"],marker=\"o\",edgecolors=\"black\")\n",
    "ax2.grid()\n",
    "ax2.set_xlim(-60,80)\n",
    "ax2.set_ylim(-5,105)\n",
    "ax2.set_xlabel(\"Latitude\")\n",
    "ax2.set_ylabel(\"Cloudiness(%)\")\n",
    "ax2.set_title(\"Latitude vs Cloudiness(12/7/2020)\")\n",
    "plt.tight_layout()\n",
    "plt.savefig(\"output_data/fig3-LatvsCloudiness.png\")\n",
    "print(\"Showing scatterplot of x:Latitude, y:Cloudiness \")"
   ]
  },
  {
   "cell_type": "markdown",
   "metadata": {},
   "source": [
    "## Latitude vs. Wind Speed Plot"
   ]
  },
  {
   "cell_type": "code",
   "execution_count": 13,
   "metadata": {},
   "outputs": [
    {
     "data": {
      "application/vnd.jupyter.widget-view+json": {
       "model_id": "81fee305b4164a8f99364e9c96e02238",
       "version_major": 2,
       "version_minor": 0
      },
      "text/plain": [
       "Canvas(toolbar=Toolbar(toolitems=[('Home', 'Reset original view', 'home', 'home'), ('Back', 'Back to previous …"
      ]
     },
     "metadata": {},
     "output_type": "display_data"
    },
    {
     "name": "stdout",
     "output_type": "stream",
     "text": [
      "Showing scatterplot of x:Latitude, y:Wind Speed(meter/s)\n"
     ]
    }
   ],
   "source": [
    "fig3, ax3 = plt.subplots(figsize=(10,10))\n",
    "\n",
    "ax3.scatter(x=weather_df[\"Latitude\"],y=weather_df[\"Wind Speed\"],marker=\"o\",edgecolors=\"black\")\n",
    "ax3.grid()\n",
    "ax3.set_xlim(-60,80)\n",
    "ax3.set_ylim(0,20)\n",
    "ax3.set_xlabel(\"Latitude\")\n",
    "ax3.set_ylabel(\"Wind Speed(meter/sec)\")\n",
    "ax3.set_title(\"Latitude vs Wind Speed(12/7/2020)\")\n",
    "plt.tight_layout()\n",
    "plt.savefig(\"output_data/fig4-LatvsWind.png\")\n",
    "print(\"Showing scatterplot of x:Latitude, y:Wind Speed(meter/s)\")"
   ]
  },
  {
   "cell_type": "markdown",
   "metadata": {},
   "source": [
    "## Linear Regression"
   ]
  },
  {
   "cell_type": "code",
   "execution_count": 14,
   "metadata": {},
   "outputs": [],
   "source": [
    "# OPTIONAL: Create a function to create Linear Regression plots\n",
    "def regression(x,y):\n",
    "    (slope, intercept,r_value,p_value,std_err) = st.linregress(x,y)\n",
    "    return (slope, intercept,r_value,p_value,std_err)\n"
   ]
  },
  {
   "cell_type": "code",
   "execution_count": 15,
   "metadata": {},
   "outputs": [],
   "source": [
    "# Create Northern and Southern Hemisphere DataFrames\n",
    "north_df = weather_df[weather_df[\"Latitude\"] >= 0]\n",
    "south_df = weather_df[weather_df[\"Latitude\"] < 0]"
   ]
  },
  {
   "cell_type": "markdown",
   "metadata": {},
   "source": [
    "####  Northern Hemisphere - Max Temp vs. Latitude Linear Regression"
   ]
  },
  {
   "cell_type": "code",
   "execution_count": 16,
   "metadata": {},
   "outputs": [
    {
     "data": {
      "application/vnd.jupyter.widget-view+json": {
       "model_id": "357c4b4179314a7187443a2a369ff901",
       "version_major": 2,
       "version_minor": 0
      },
      "text/plain": [
       "Canvas(toolbar=Toolbar(toolitems=[('Home', 'Reset original view', 'home', 'home'), ('Back', 'Back to previous …"
      ]
     },
     "metadata": {},
     "output_type": "display_data"
    }
   ],
   "source": [
    "x =north_df[\"Latitude\"]\n",
    "y =north_df[\"Temperature\"]\n",
    "\n",
    "slope = regression(x,y)[0]\n",
    "intercept = regression(x,y)[1]\n",
    "r2 = regression(x,y)[2] **2\n",
    "\n",
    "fig4, ax4 = plt.subplots()\n",
    "ax4.scatter(x=x, y=y,marker=\"o\",edgecolors=\"black\")    \n",
    "ax4.plot(x,slope*x +intercept,color=\"red\")\n",
    "ax4.text(15,slope*15+intercept-20,'y='+str(round(slope,4)) + 'x +' +str(round(intercept,4)) + \"     R2 =\" +str(round(r2,4)),color=\"red\")\n",
    "ax4.grid()\n",
    "ax4.set_xlim(0,80)\n",
    "ax4.set_ylim(0,40)\n",
    "ax4.set_xlabel(\"Latitude\")\n",
    "ax4.set_ylabel(\"Temperature(C)\")\n",
    "ax4.set_title(\"Northern: Latitude vs Temperature(12/7/2020)\")\n",
    "plt.tight_layout()\n",
    "plt.savefig(\"output_data/fig5-LatvsTemp(Northern).png\")"
   ]
  },
  {
   "cell_type": "markdown",
   "metadata": {},
   "source": [
    "Additional analysis: data between Latitude 20-80 seems to have more strong correlation"
   ]
  },
  {
   "cell_type": "code",
   "execution_count": 17,
   "metadata": {},
   "outputs": [
    {
     "data": {
      "application/vnd.jupyter.widget-view+json": {
       "model_id": "516d68911e52403f95ab3bade48347c4",
       "version_major": 2,
       "version_minor": 0
      },
      "text/plain": [
       "Canvas(toolbar=Toolbar(toolitems=[('Home', 'Reset original view', 'home', 'home'), ('Back', 'Back to previous …"
      ]
     },
     "metadata": {},
     "output_type": "display_data"
    }
   ],
   "source": [
    "north20_df = north_df[north_df[\"Latitude\"] >= 20]\n",
    "\n",
    "x =north20_df[\"Latitude\"]\n",
    "y =north20_df[\"Temperature\"]\n",
    "\n",
    "slope = regression(x,y)[0]\n",
    "intercept = regression(x,y)[1]\n",
    "r2 = regression(x,y)[2] **2\n",
    "\n",
    "figa, axa = plt.subplots()\n",
    "axa.scatter(x=x, y=y,marker=\"o\",edgecolors=\"black\")    \n",
    "axa.plot(x,slope*x +intercept,color=\"red\")\n",
    "axa.text(15,slope*15+intercept-20,'y='+str(round(slope,4)) + 'x +' +str(round(intercept,4)) + \"     R2 =\" +str(round(r2,4)),color=\"red\")\n",
    "axa.grid()\n",
    "axa.set_xlim(15,80)\n",
    "axa.set_ylim(0,40)\n",
    "axa.set_xlabel(\"Latitude\")\n",
    "axa.set_ylabel(\"Temperature(C)\")\n",
    "axa.set_title(\"Northern: Latitude(20-80) vs Temperature(12/7/2020)\")\n",
    "plt.tight_layout()\n",
    "plt.savefig(\"output_data/add_fig-LatvsTemp(Northern(20-80)).png\")\n"
   ]
  },
  {
   "cell_type": "markdown",
   "metadata": {},
   "source": [
    "Additional analysis result: still not so strong correlation"
   ]
  },
  {
   "cell_type": "markdown",
   "metadata": {},
   "source": [
    "####  Southern Hemisphere - Max Temp vs. Latitude Linear Regression"
   ]
  },
  {
   "cell_type": "code",
   "execution_count": 18,
   "metadata": {},
   "outputs": [
    {
     "data": {
      "application/vnd.jupyter.widget-view+json": {
       "model_id": "790a2f626b26405bbfa194139dae5ce9",
       "version_major": 2,
       "version_minor": 0
      },
      "text/plain": [
       "Canvas(toolbar=Toolbar(toolitems=[('Home', 'Reset original view', 'home', 'home'), ('Back', 'Back to previous …"
      ]
     },
     "metadata": {},
     "output_type": "display_data"
    }
   ],
   "source": [
    "x =south_df[\"Latitude\"]\n",
    "y =south_df[\"Temperature\"]\n",
    "\n",
    "slope = regression(x,y)[0]\n",
    "intercept = regression(x,y)[1]\n",
    "r2 = regression(x,y)[2] **2\n",
    "\n",
    "fig5, ax5 = plt.subplots()\n",
    "ax5.scatter(x=x, y=y,marker=\"o\",edgecolors=\"black\")    \n",
    "ax5.plot(x,slope*x +intercept,color=\"red\")\n",
    "ax5.text(-30,slope*-30+intercept-10,'y='+str(round(slope,4)) + 'x +' +str(round(intercept,4)) + \"     R2 =\" +str(round(r2,4)),color=\"red\")\n",
    "ax5.grid()\n",
    "ax5.set_xlim(-60,2)\n",
    "ax5.set_ylim(-10,40)\n",
    "ax5.set_xlabel(\"Latitude\")\n",
    "ax5.set_ylabel(\"Temperature(C)\")\n",
    "ax5.set_title(\"Southern: Latitude vs Temperature(12/7/2020)\")\n",
    "plt.tight_layout()\n",
    "plt.savefig(\"output_data/fig6-LatvsTemp(Southern).png\")"
   ]
  },
  {
   "cell_type": "markdown",
   "metadata": {},
   "source": [
    "####  Northern Hemisphere - Humidity (%) vs. Latitude Linear Regression"
   ]
  },
  {
   "cell_type": "code",
   "execution_count": 19,
   "metadata": {},
   "outputs": [
    {
     "data": {
      "application/vnd.jupyter.widget-view+json": {
       "model_id": "7c24d1ed1d254e7b9d426ba5e762c8e3",
       "version_major": 2,
       "version_minor": 0
      },
      "text/plain": [
       "Canvas(toolbar=Toolbar(toolitems=[('Home', 'Reset original view', 'home', 'home'), ('Back', 'Back to previous …"
      ]
     },
     "metadata": {},
     "output_type": "display_data"
    }
   ],
   "source": [
    "x =north_df[\"Latitude\"]\n",
    "y =north_df[\"Humidity\"]\n",
    "\n",
    "slope = regression(x,y)[0]\n",
    "intercept = regression(x,y)[1]\n",
    "r2 = regression(x,y)[2] **2\n",
    "\n",
    "fig6, ax6 = plt.subplots()\n",
    "ax6.scatter(x=x, y=y,marker=\"o\",edgecolors=\"black\")    \n",
    "ax6.plot(x,slope*x +intercept,color=\"red\")\n",
    "ax6.text(15,slope*15+intercept-60,'y='+str(round(slope,4)) + 'x +' +str(round(intercept,4)) + \"     R2 =\" +str(round(r2,4)),color=\"red\")\n",
    "ax6.grid()\n",
    "ax6.set_xlim(0,80)\n",
    "ax6.set_ylim(-2,102)\n",
    "ax6.set_xlabel(\"Latitude\")\n",
    "ax6.set_ylabel(\"Humidity(%)\")\n",
    "ax6.set_title(\"Northern: Latitude vs Humidity(12/7/2020)\")\n",
    "plt.tight_layout()\n",
    "plt.savefig(\"output_data/fig7-LatvsHumidity(Northern).png\")"
   ]
  },
  {
   "cell_type": "markdown",
   "metadata": {},
   "source": [
    "####  Southern Hemisphere - Humidity (%) vs. Latitude Linear Regression"
   ]
  },
  {
   "cell_type": "code",
   "execution_count": 20,
   "metadata": {},
   "outputs": [
    {
     "data": {
      "application/vnd.jupyter.widget-view+json": {
       "model_id": "726b378616204a8ba9ca7eb4d8a847e9",
       "version_major": 2,
       "version_minor": 0
      },
      "text/plain": [
       "Canvas(toolbar=Toolbar(toolitems=[('Home', 'Reset original view', 'home', 'home'), ('Back', 'Back to previous …"
      ]
     },
     "metadata": {},
     "output_type": "display_data"
    }
   ],
   "source": [
    "x =south_df[\"Latitude\"]\n",
    "y =south_df[\"Humidity\"]\n",
    "\n",
    "slope = regression(x,y)[0]\n",
    "intercept = regression(x,y)[1]\n",
    "r2 = regression(x,y)[2] **2\n",
    "\n",
    "fig7, ax7 = plt.subplots()\n",
    "ax7.scatter(x=x, y=y,marker=\"o\",edgecolors=\"black\")    \n",
    "ax7.plot(x,slope*x +intercept,color=\"red\")\n",
    "ax7.text(-30,slope*-30+intercept-50,'y='+str(round(slope,4)) + 'x +' +str(round(intercept,4)) + \"     R2 =\" +str(round(r2,4)),color=\"red\")\n",
    "ax7.grid()\n",
    "ax7.set_xlim(-60,2)\n",
    "ax7.set_ylim(-2,102)\n",
    "ax7.set_xlabel(\"Latitude\")\n",
    "ax7.set_ylabel(\"Humidity(%)\")\n",
    "ax7.set_title(\"Southern: Latitude vs Humidity(12/7/2020)\")\n",
    "plt.tight_layout()\n",
    "plt.savefig(\"output_data/fig8-LatvsHumidity(Southern).png\")"
   ]
  },
  {
   "cell_type": "markdown",
   "metadata": {},
   "source": [
    "####  Northern Hemisphere - Cloudiness (%) vs. Latitude Linear Regression"
   ]
  },
  {
   "cell_type": "code",
   "execution_count": 21,
   "metadata": {},
   "outputs": [
    {
     "data": {
      "application/vnd.jupyter.widget-view+json": {
       "model_id": "2812d5202450413a9852c2c110f69a5f",
       "version_major": 2,
       "version_minor": 0
      },
      "text/plain": [
       "Canvas(toolbar=Toolbar(toolitems=[('Home', 'Reset original view', 'home', 'home'), ('Back', 'Back to previous …"
      ]
     },
     "metadata": {},
     "output_type": "display_data"
    }
   ],
   "source": [
    "x =north_df[\"Latitude\"]\n",
    "y =north_df[\"Cloudiness\"]\n",
    "\n",
    "slope = regression(x,y)[0]\n",
    "intercept = regression(x,y)[1]\n",
    "r2 = regression(x,y)[2] **2\n",
    "\n",
    "fig8, ax8 = plt.subplots()\n",
    "ax8.scatter(x=x, y=y,marker=\"o\",edgecolors=\"black\")    \n",
    "ax8.plot(x,slope*x +intercept,color=\"red\")\n",
    "ax8.text(15,slope*15+intercept,'y='+str(round(slope,4)) + 'x +' +str(round(intercept,4)) + \"     R2 =\" +str(round(r2,4)),color=\"red\")\n",
    "ax8.grid()\n",
    "ax8.set_xlim(0,80)\n",
    "ax8.set_ylim(-2,102)\n",
    "ax8.set_xlabel(\"Latitude\")\n",
    "ax8.set_ylabel(\"Cloudiness(%)\")\n",
    "ax8.set_title(\"Northern: Latitude vs Cloudiness(12/7/2020)\")\n",
    "plt.tight_layout()\n",
    "plt.savefig(\"output_data/fig9-LatvsCloudiness(Northern).png\")"
   ]
  },
  {
   "cell_type": "markdown",
   "metadata": {},
   "source": [
    "####  Southern Hemisphere - Cloudiness (%) vs. Latitude Linear Regression"
   ]
  },
  {
   "cell_type": "code",
   "execution_count": 22,
   "metadata": {},
   "outputs": [
    {
     "data": {
      "application/vnd.jupyter.widget-view+json": {
       "model_id": "78d64c199b344ca99ef2ce25aa69dff4",
       "version_major": 2,
       "version_minor": 0
      },
      "text/plain": [
       "Canvas(toolbar=Toolbar(toolitems=[('Home', 'Reset original view', 'home', 'home'), ('Back', 'Back to previous …"
      ]
     },
     "metadata": {},
     "output_type": "display_data"
    }
   ],
   "source": [
    "x =south_df[\"Latitude\"]\n",
    "y =south_df[\"Cloudiness\"]\n",
    "\n",
    "slope = regression(x,y)[0]\n",
    "intercept = regression(x,y)[1]\n",
    "r2 = regression(x,y)[2] **2\n",
    "\n",
    "fig9, ax9 = plt.subplots()\n",
    "ax9.scatter(x=x, y=y,marker=\"o\",edgecolors=\"black\")    \n",
    "ax9.plot(x,slope*x +intercept,color=\"red\")\n",
    "ax9.text(-30,slope*-30+intercept,'y='+str(round(slope,4)) + 'x +' +str(round(intercept,4)) + \"     R2 =\" +str(round(r2,4)),color=\"red\")\n",
    "ax9.grid()\n",
    "ax9.set_xlim(-60,2)\n",
    "ax9.set_ylim(-2,102)\n",
    "ax9.set_xlabel(\"Latitude\")\n",
    "ax9.set_ylabel(\"Cloudiness(%)\")\n",
    "ax9.set_title(\"Southern: Latitude vs Cloudiness(12/7/2020)\")\n",
    "plt.tight_layout()\n",
    "plt.savefig(\"output_data/fig10-LatvsCloudiness(Southern).png\")"
   ]
  },
  {
   "cell_type": "markdown",
   "metadata": {},
   "source": [
    "####  Northern Hemisphere - Wind Speed (mph) vs. Latitude Linear Regression"
   ]
  },
  {
   "cell_type": "code",
   "execution_count": 23,
   "metadata": {},
   "outputs": [
    {
     "data": {
      "application/vnd.jupyter.widget-view+json": {
       "model_id": "518eedabf1184f6cbb071b66b2a7b93c",
       "version_major": 2,
       "version_minor": 0
      },
      "text/plain": [
       "Canvas(toolbar=Toolbar(toolitems=[('Home', 'Reset original view', 'home', 'home'), ('Back', 'Back to previous …"
      ]
     },
     "metadata": {},
     "output_type": "display_data"
    }
   ],
   "source": [
    "x =north_df[\"Latitude\"]\n",
    "y =north_df[\"Wind Speed\"]\n",
    "\n",
    "slope = regression(x,y)[0]\n",
    "intercept = regression(x,y)[1]\n",
    "r2 = regression(x,y)[2] **2\n",
    "\n",
    "fig10, ax10 = plt.subplots()\n",
    "ax10.scatter(x=x, y=y,marker=\"o\",edgecolors=\"black\")    \n",
    "ax10.plot(x,slope*x +intercept,color=\"red\")\n",
    "ax10.text(15,slope*15+intercept+10,'y='+str(round(slope,4)) + 'x +' +str(round(intercept,4)) + \"     R2 =\" +str(round(r2,4)),color=\"red\")\n",
    "ax10.grid()\n",
    "ax10.set_xlim(0,80)\n",
    "ax10.set_ylim(0,15)\n",
    "ax10.set_xlabel(\"Latitude\")\n",
    "ax10.set_ylabel(\"Wind Speed(m/s)\")\n",
    "ax10.set_title(\"Northern: Latitude vs Wind Speed(12/7/2020)\")\n",
    "plt.tight_layout()\n",
    "plt.savefig(\"output_data/fig11-LatvsWind(Northern).png\")"
   ]
  },
  {
   "cell_type": "markdown",
   "metadata": {},
   "source": [
    "####  Southern Hemisphere - Wind Speed (mph) vs. Latitude Linear Regression"
   ]
  },
  {
   "cell_type": "code",
   "execution_count": 24,
   "metadata": {},
   "outputs": [
    {
     "data": {
      "application/vnd.jupyter.widget-view+json": {
       "model_id": "bccdb56a140e4903bb458464cbec7d94",
       "version_major": 2,
       "version_minor": 0
      },
      "text/plain": [
       "Canvas(toolbar=Toolbar(toolitems=[('Home', 'Reset original view', 'home', 'home'), ('Back', 'Back to previous …"
      ]
     },
     "metadata": {},
     "output_type": "display_data"
    }
   ],
   "source": [
    "x =south_df[\"Latitude\"]\n",
    "y =south_df[\"Wind Speed\"]\n",
    "\n",
    "slope = regression(x,y)[0]\n",
    "intercept = regression(x,y)[1]\n",
    "r2 = regression(x,y)[2] **2\n",
    "\n",
    "fig5, ax11 = plt.subplots()\n",
    "ax11.scatter(x=x, y=y,marker=\"o\",edgecolors=\"black\")    \n",
    "ax11.plot(x,slope*x +intercept,color=\"red\")\n",
    "ax11.text(-30,slope*-30+intercept+10,'y='+str(round(slope,4)) + 'x +' +str(round(intercept,4)) + \"     R2 =\" +str(round(r2,4)),color=\"red\")\n",
    "ax11.grid()\n",
    "ax11.set_xlim(-60,2)\n",
    "ax11.set_ylim(0,15)\n",
    "ax11.set_xlabel(\"Latitude\")\n",
    "ax11.set_ylabel(\"Wind Speed(m/s)\")\n",
    "ax11.set_title(\"Southern: Latitude vs Wind Speed(12/7/2020)\")\n",
    "plt.tight_layout()\n",
    "plt.savefig(\"output_data/fig12-LatvsWind(Southern).png\")"
   ]
  },
  {
   "cell_type": "code",
   "execution_count": null,
   "metadata": {},
   "outputs": [],
   "source": []
  }
 ],
 "metadata": {
  "anaconda-cloud": {},
  "kernel_info": {
   "name": "python3"
  },
  "kernelspec": {
   "display_name": "Python 3",
   "language": "python",
   "name": "python3"
  },
  "language_info": {
   "codemirror_mode": {
    "name": "ipython",
    "version": 3
   },
   "file_extension": ".py",
   "mimetype": "text/x-python",
   "name": "python",
   "nbconvert_exporter": "python",
   "pygments_lexer": "ipython3",
   "version": "3.7.6"
  },
  "latex_envs": {
   "LaTeX_envs_menu_present": true,
   "autoclose": false,
   "autocomplete": true,
   "bibliofile": "biblio.bib",
   "cite_by": "apalike",
   "current_citInitial": 1,
   "eqLabelWithNumbers": true,
   "eqNumInitial": 1,
   "hotkeys": {
    "equation": "Ctrl-E",
    "itemize": "Ctrl-I"
   },
   "labels_anchors": false,
   "latex_user_defs": false,
   "report_style_numbering": false,
   "user_envs_cfg": false
  },
  "nteract": {
   "version": "0.12.3"
  }
 },
 "nbformat": 4,
 "nbformat_minor": 4
}
